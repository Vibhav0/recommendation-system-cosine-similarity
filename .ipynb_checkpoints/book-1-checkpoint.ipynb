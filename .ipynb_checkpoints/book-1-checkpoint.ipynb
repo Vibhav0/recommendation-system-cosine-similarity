{
 "cells": [
  {
   "cell_type": "code",
   "execution_count": 1,
   "id": "f7a1919d",
   "metadata": {},
   "outputs": [],
   "source": [
    "##We'll try to clean our data in this notebook"
   ]
  },
  {
   "cell_type": "code",
   "execution_count": 2,
   "id": "2b855bc4",
   "metadata": {},
   "outputs": [],
   "source": [
    "import pandas as pd\n",
    "import re"
   ]
  },
  {
   "cell_type": "code",
   "execution_count": 3,
   "id": "127f4f78",
   "metadata": {},
   "outputs": [],
   "source": [
    "dataf=pd.read_json(\"movies-data.json\")"
   ]
  },
  {
   "cell_type": "code",
   "execution_count": 4,
   "id": "63c24a13",
   "metadata": {},
   "outputs": [
    {
     "data": {
      "text/html": [
       "<div>\n",
       "<style scoped>\n",
       "    .dataframe tbody tr th:only-of-type {\n",
       "        vertical-align: middle;\n",
       "    }\n",
       "\n",
       "    .dataframe tbody tr th {\n",
       "        vertical-align: top;\n",
       "    }\n",
       "\n",
       "    .dataframe thead th {\n",
       "        text-align: right;\n",
       "    }\n",
       "</style>\n",
       "<table border=\"1\" class=\"dataframe\">\n",
       "  <thead>\n",
       "    <tr style=\"text-align: right;\">\n",
       "      <th></th>\n",
       "      <th>movie_name</th>\n",
       "      <th>movie_year</th>\n",
       "      <th>movie_directors_cast</th>\n",
       "      <th>movie_time</th>\n",
       "      <th>movie_tags</th>\n",
       "      <th>movie_stars</th>\n",
       "      <th>movie_score</th>\n",
       "      <th>movie_dis</th>\n",
       "      <th>movie_votes</th>\n",
       "      <th>movie_total</th>\n",
       "    </tr>\n",
       "  </thead>\n",
       "  <tbody>\n",
       "    <tr>\n",
       "      <th>0</th>\n",
       "      <td>[Pulp Fiction]</td>\n",
       "      <td>[(1994)]</td>\n",
       "      <td>[Quentin Tarantino, John Travolta, Uma Thurman...</td>\n",
       "      <td>[154 min]</td>\n",
       "      <td>[\\nCrime, Drama            ]</td>\n",
       "      <td>[8.9]</td>\n",
       "      <td>[94        ]</td>\n",
       "      <td>[\\nThe lives of two mob hitmen, a boxer, a gan...</td>\n",
       "      <td>[1,871,051]</td>\n",
       "      <td>[$107.93M]</td>\n",
       "    </tr>\n",
       "    <tr>\n",
       "      <th>1</th>\n",
       "      <td>[The Amazing Spider-Man 2]</td>\n",
       "      <td>[(2014)]</td>\n",
       "      <td>[Marc Webb, Andrew Garfield, Emma Stone, Jamie...</td>\n",
       "      <td>[142 min]</td>\n",
       "      <td>[\\nAction, Adventure, Fantasy            ]</td>\n",
       "      <td>[6.6]</td>\n",
       "      <td>[53        ]</td>\n",
       "      <td>[\\nWhen New York is put under siege by Oscorp,...</td>\n",
       "      <td>[425,529]</td>\n",
       "      <td>[$202.85M]</td>\n",
       "    </tr>\n",
       "    <tr>\n",
       "      <th>2</th>\n",
       "      <td>[The Shawshank Redemption]</td>\n",
       "      <td>[(1994)]</td>\n",
       "      <td>[Frank Darabont, Tim Robbins, Morgan Freeman, ...</td>\n",
       "      <td>[142 min]</td>\n",
       "      <td>[\\nDrama            ]</td>\n",
       "      <td>[9.3]</td>\n",
       "      <td>[80        ]</td>\n",
       "      <td>[\\nTwo imprisoned men bond over a number of ye...</td>\n",
       "      <td>[2,409,436]</td>\n",
       "      <td>[$28.34M]</td>\n",
       "    </tr>\n",
       "    <tr>\n",
       "      <th>3</th>\n",
       "      <td>[Star Wars: Episode IV - A New Hope]</td>\n",
       "      <td>[(1977)]</td>\n",
       "      <td>[George Lucas, Mark Hamill, Harrison Ford, Car...</td>\n",
       "      <td>[121 min]</td>\n",
       "      <td>[\\nAction, Adventure, Fantasy            ]</td>\n",
       "      <td>[8.6]</td>\n",
       "      <td>[90        ]</td>\n",
       "      <td>[\\nLuke Skywalker joins forces with a Jedi Kni...</td>\n",
       "      <td>[1,255,464]</td>\n",
       "      <td>[$322.74M]</td>\n",
       "    </tr>\n",
       "    <tr>\n",
       "      <th>4</th>\n",
       "      <td>[Back to the Future]</td>\n",
       "      <td>[(1985)]</td>\n",
       "      <td>[Robert Zemeckis, Michael J. Fox, Christopher ...</td>\n",
       "      <td>[116 min]</td>\n",
       "      <td>[\\nAdventure, Comedy, Sci-Fi            ]</td>\n",
       "      <td>[8.5]</td>\n",
       "      <td>[87        ]</td>\n",
       "      <td>[\\nMarty McFly, a 17-year-old high school stud...</td>\n",
       "      <td>[1,087,878]</td>\n",
       "      <td>[$210.61M]</td>\n",
       "    </tr>\n",
       "  </tbody>\n",
       "</table>\n",
       "</div>"
      ],
      "text/plain": [
       "                             movie_name movie_year  \\\n",
       "0                        [Pulp Fiction]   [(1994)]   \n",
       "1            [The Amazing Spider-Man 2]   [(2014)]   \n",
       "2            [The Shawshank Redemption]   [(1994)]   \n",
       "3  [Star Wars: Episode IV - A New Hope]   [(1977)]   \n",
       "4                  [Back to the Future]   [(1985)]   \n",
       "\n",
       "                                movie_directors_cast movie_time  \\\n",
       "0  [Quentin Tarantino, John Travolta, Uma Thurman...  [154 min]   \n",
       "1  [Marc Webb, Andrew Garfield, Emma Stone, Jamie...  [142 min]   \n",
       "2  [Frank Darabont, Tim Robbins, Morgan Freeman, ...  [142 min]   \n",
       "3  [George Lucas, Mark Hamill, Harrison Ford, Car...  [121 min]   \n",
       "4  [Robert Zemeckis, Michael J. Fox, Christopher ...  [116 min]   \n",
       "\n",
       "                                   movie_tags movie_stars   movie_score  \\\n",
       "0                [\\nCrime, Drama            ]       [8.9]  [94        ]   \n",
       "1  [\\nAction, Adventure, Fantasy            ]       [6.6]  [53        ]   \n",
       "2                       [\\nDrama            ]       [9.3]  [80        ]   \n",
       "3  [\\nAction, Adventure, Fantasy            ]       [8.6]  [90        ]   \n",
       "4   [\\nAdventure, Comedy, Sci-Fi            ]       [8.5]  [87        ]   \n",
       "\n",
       "                                           movie_dis  movie_votes movie_total  \n",
       "0  [\\nThe lives of two mob hitmen, a boxer, a gan...  [1,871,051]  [$107.93M]  \n",
       "1  [\\nWhen New York is put under siege by Oscorp,...    [425,529]  [$202.85M]  \n",
       "2  [\\nTwo imprisoned men bond over a number of ye...  [2,409,436]   [$28.34M]  \n",
       "3  [\\nLuke Skywalker joins forces with a Jedi Kni...  [1,255,464]  [$322.74M]  \n",
       "4  [\\nMarty McFly, a 17-year-old high school stud...  [1,087,878]  [$210.61M]  "
      ]
     },
     "execution_count": 4,
     "metadata": {},
     "output_type": "execute_result"
    }
   ],
   "source": [
    "dataf.head()"
   ]
  },
  {
   "cell_type": "markdown",
   "id": "30080bb5",
   "metadata": {},
   "source": [
    "Above we can see that there are brackets around them ie our data is not clean"
   ]
  },
  {
   "cell_type": "markdown",
   "id": "bcbe3e63",
   "metadata": {},
   "source": [
    "Lets try to clean movie_name"
   ]
  },
  {
   "cell_type": "code",
   "execution_count": 5,
   "id": "0c920d4e",
   "metadata": {
    "scrolled": true
   },
   "outputs": [],
   "source": [
    "##Cleaning Name of movie\n",
    "dataf[\"Name\"]=[re.sub(r'\\[','',str(movie)) for movie in dataf.movie_name]\n",
    "dataf[\"Name\"]=[re.sub(r'\\]','',str(movie)) for movie in dataf.Name]\n",
    "dataf[\"Name\"]=[re.sub(\"\"\"['\"]+\"\"\",'',str(movie)) for movie in dataf.Name]\n"
   ]
  },
  {
   "cell_type": "code",
   "execution_count": 6,
   "id": "a8764bf9",
   "metadata": {},
   "outputs": [
    {
     "data": {
      "text/plain": [
       "0                             Pulp Fiction\n",
       "1                 The Amazing Spider-Man 2\n",
       "2                 The Shawshank Redemption\n",
       "3       Star Wars: Episode IV - A New Hope\n",
       "4                       Back to the Future\n",
       "                       ...                \n",
       "9932                                  Cell\n",
       "9933                          Geralds Game\n",
       "9934                          Liseys Story\n",
       "9935                  John Wick: Chapter 2\n",
       "9936                       The Company Man\n",
       "Name: Name, Length: 9937, dtype: object"
      ]
     },
     "execution_count": 6,
     "metadata": {},
     "output_type": "execute_result"
    }
   ],
   "source": [
    "dataf.Name"
   ]
  },
  {
   "cell_type": "code",
   "execution_count": 7,
   "id": "53fe37a9",
   "metadata": {},
   "outputs": [],
   "source": [
    "##Lets Clean other features also"
   ]
  },
  {
   "cell_type": "code",
   "execution_count": 8,
   "id": "0bb42015",
   "metadata": {},
   "outputs": [],
   "source": [
    "##Cleaning Year\n",
    "dataf[\"Year\"]=[re.sub(r\"[\\([{})\\]]\",'',str(year)) for year in dataf.movie_year]\n",
    "dataf[\"Year\"]=[re.sub(\"\"\"['\"]+\"\"\",'',str(year)) for year in dataf.Year]"
   ]
  },
  {
   "cell_type": "code",
   "execution_count": 9,
   "id": "50b5c8f0",
   "metadata": {},
   "outputs": [
    {
     "data": {
      "text/plain": [
       "0         1994\n",
       "1         2014\n",
       "2         1994\n",
       "3         1977\n",
       "4         1985\n",
       "         ...  \n",
       "9932    I 2016\n",
       "9933      2017\n",
       "9934      2021\n",
       "9935      2017\n",
       "9936         I\n",
       "Name: Year, Length: 9937, dtype: object"
      ]
     },
     "execution_count": 9,
     "metadata": {},
     "output_type": "execute_result"
    }
   ],
   "source": [
    "dataf[\"Year\"]"
   ]
  },
  {
   "cell_type": "code",
   "execution_count": 10,
   "id": "13657f5f",
   "metadata": {},
   "outputs": [],
   "source": [
    "##Cleaning Movie stars and score\n",
    "dataf[\"Stars\"]=[re.sub(r\"[\\([{})\\]]\",'',str(stars)) for stars in dataf.movie_stars]\n",
    "dataf[\"Stars\"]=[re.sub(\"\"\"['\"]+\"\"\",'',str(stars)) for stars in dataf.Stars]\n",
    "dataf[\"Score\"]=[re.sub(r\"[\\([{})\\]]\",'',str(score)) for score in dataf.movie_score]\n",
    "dataf[\"Score\"]=[re.sub(\"\"\"['\"]+\"\"\",'',str(score)) for score in dataf.Score]"
   ]
  },
  {
   "cell_type": "code",
   "execution_count": 11,
   "id": "f3696de8",
   "metadata": {},
   "outputs": [
    {
     "data": {
      "text/plain": [
       "0       8.9\n",
       "1       6.6\n",
       "2       9.3\n",
       "3       8.6\n",
       "4       8.5\n",
       "       ... \n",
       "9932    4.4\n",
       "9933    6.5\n",
       "9934      6\n",
       "9935    7.5\n",
       "9936       \n",
       "Name: Stars, Length: 9937, dtype: object"
      ]
     },
     "execution_count": 11,
     "metadata": {},
     "output_type": "execute_result"
    }
   ],
   "source": [
    "dataf.Stars"
   ]
  },
  {
   "cell_type": "code",
   "execution_count": 12,
   "id": "54ed5fcc",
   "metadata": {},
   "outputs": [
    {
     "data": {
      "text/plain": [
       "0       94        \n",
       "1       53        \n",
       "2       80        \n",
       "3       90        \n",
       "4       87        \n",
       "           ...    \n",
       "9932    38        \n",
       "9933    77        \n",
       "9934              \n",
       "9935    75        \n",
       "9936              \n",
       "Name: Score, Length: 9937, dtype: object"
      ]
     },
     "execution_count": 12,
     "metadata": {},
     "output_type": "execute_result"
    }
   ],
   "source": [
    "dataf.Score"
   ]
  },
  {
   "cell_type": "code",
   "execution_count": 13,
   "id": "5901b73f",
   "metadata": {},
   "outputs": [],
   "source": [
    "##Cleaning Movietime,,votes,total\n",
    "dataf[\"Time\"]=[re.sub(r\"[\\([{})\\]]\",'',str(time)) for time in dataf.movie_time]\n",
    "dataf[\"Time\"]=[re.sub(\"\"\"['\"]+\"\"\",'',str(time)) for time in dataf.Time]\n",
    "dataf[\"Votes\"]=[re.sub(r\"[\\([{})\\]]\",'',str(votes)) for votes in dataf.movie_votes]\n",
    "dataf[\"Votes\"]=[re.sub(\"\"\"['\"]+\"\"\",'',str(votes)) for votes in dataf.Votes]\n",
    "dataf[\"Total\"]=[re.sub(r\"[\\([{})\\]]\",'',str(total)) for total in dataf.movie_total]\n",
    "dataf[\"Total\"]=[re.sub(\"\"\"['\"]+\"\"\",'',str(total)) for total in dataf.Total]"
   ]
  },
  {
   "cell_type": "code",
   "execution_count": 14,
   "id": "8270f5a9",
   "metadata": {},
   "outputs": [
    {
     "data": {
      "text/plain": [
       "0       $107.93M\n",
       "1       $202.85M\n",
       "2        $28.34M\n",
       "3       $322.74M\n",
       "4       $210.61M\n",
       "          ...   \n",
       "9932            \n",
       "9933            \n",
       "9934            \n",
       "9935     $92.03M\n",
       "9936            \n",
       "Name: Total, Length: 9937, dtype: object"
      ]
     },
     "execution_count": 14,
     "metadata": {},
     "output_type": "execute_result"
    }
   ],
   "source": [
    "dataf.Total"
   ]
  },
  {
   "cell_type": "code",
   "execution_count": 15,
   "id": "879292f0",
   "metadata": {},
   "outputs": [],
   "source": [
    "##Lets clean cast and discription\n",
    "dataf[\"Directors_Cast\"]=[re.sub(r\"[\\([{})\\]]\",'',str(names)) for names in dataf.movie_directors_cast]\n",
    "dataf[\"Directors_Cast\"]=[re.sub(r\"[,]\",'',str(names)) for names in dataf.Directors_Cast]\n",
    "dataf[\"Directors_Cast\"]=[re.sub(\"\"\"['\"]+\"\"\",'',str(names)) for names in dataf.Directors_Cast]"
   ]
  },
  {
   "cell_type": "code",
   "execution_count": 16,
   "id": "c76902eb",
   "metadata": {},
   "outputs": [
    {
     "data": {
      "text/plain": [
       "0       Quentin Tarantino John Travolta Uma Thurman Sa...\n",
       "1       Marc Webb Andrew Garfield Emma Stone Jamie Fox...\n",
       "2       Frank Darabont Tim Robbins Morgan Freeman Bob ...\n",
       "3       George Lucas Mark Hamill Harrison Ford Carrie ...\n",
       "4       Robert Zemeckis Michael J. Fox Christopher Llo...\n",
       "                              ...                        \n",
       "9932    Tod Williams John Cusack Samuel L. Jackson Isa...\n",
       "9933    Mike Flanagan Carla Gugino Bruce Greenwood Chi...\n",
       "9934    Julianne Moore Clive Owen Jennifer Jason Leigh...\n",
       "9935    Chad Stahelski Keanu Reeves Riccardo Scamarcio...\n",
       "9936                                                     \n",
       "Name: Directors_Cast, Length: 9937, dtype: object"
      ]
     },
     "execution_count": 16,
     "metadata": {},
     "output_type": "execute_result"
    }
   ],
   "source": [
    "dataf.Directors_Cast"
   ]
  },
  {
   "cell_type": "code",
   "execution_count": 17,
   "id": "6f94f8b9",
   "metadata": {},
   "outputs": [],
   "source": [
    "##For Discriptions\n",
    "dataf[\"Discription\"]=[re.sub(r\"[\\([{})\\]]\",'',str(dis)) for dis in dataf.movie_dis]\n",
    "dataf[\"Discription\"]=[re.sub(r\"[,]\",'',str(dis)) for dis in dataf.Discription]\n",
    "dataf[\"Discription\"]=[re.sub(\"\"\"['\"]+\"\"\",'',str(dis)) for dis in dataf.Discription]\n",
    "dataf[\"Discription\"]=[re.sub(\"/\\\\n/g\",'',str(dis)) for dis in dataf.Discription]"
   ]
  },
  {
   "cell_type": "code",
   "execution_count": 18,
   "id": "f06fec92",
   "metadata": {},
   "outputs": [
    {
     "data": {
      "text/plain": [
       "0       \\nThe lives of two mob hitmen a boxer a gangst...\n",
       "1       \\nWhen New York is put under siege by Oscorp i...\n",
       "2       \\nTwo imprisoned men bond over a number of yea...\n",
       "3       \\nLuke Skywalker joins forces with a Jedi Knig...\n",
       "4       \\nMarty McFly a 17-year-old high school studen...\n",
       "                              ...                        \n",
       "9932    \\nWhen a mysterious cell phone signal causes a...\n",
       "9933    \\nA couple tries to spice up their marriage in...\n",
       "9934                                                     \n",
       "9935    \\nAfter returning to the criminal underworld t...\n",
       "9936                                                     \n",
       "Name: Discription, Length: 9937, dtype: object"
      ]
     },
     "execution_count": 18,
     "metadata": {},
     "output_type": "execute_result"
    }
   ],
   "source": [
    "dataf.Discription"
   ]
  },
  {
   "cell_type": "code",
   "execution_count": 19,
   "id": "8f7107a0",
   "metadata": {},
   "outputs": [],
   "source": [
    "##Lets remove old features\n",
    "dataf.drop(\"movie_name\",axis=1,inplace=True)\n",
    "dataf.drop(\"movie_year\",axis=1,inplace=True)\n",
    "dataf.drop(\"movie_score\",axis=1,inplace=True)\n",
    "dataf.drop(\"movie_stars\",axis=1,inplace=True)\n",
    "dataf.drop(\"movie_time\",axis=1,inplace=True)\n",
    "dataf.drop(\"movie_dis\",axis=1,inplace=True)\n",
    "dataf.drop(\"movie_votes\",axis=1,inplace=True)\n",
    "dataf.drop(\"movie_total\",axis=1,inplace=True)"
   ]
  },
  {
   "cell_type": "code",
   "execution_count": 20,
   "id": "7a99c877",
   "metadata": {},
   "outputs": [
    {
     "data": {
      "text/plain": [
       "Index(['movie_directors_cast', 'movie_tags', 'Name', 'Year', 'Stars', 'Score',\n",
       "       'Time', 'Votes', 'Total', 'Directors_Cast', 'Discription'],\n",
       "      dtype='object')"
      ]
     },
     "execution_count": 20,
     "metadata": {},
     "output_type": "execute_result"
    }
   ],
   "source": [
    "dataf.columns"
   ]
  },
  {
   "cell_type": "code",
   "execution_count": 21,
   "id": "a2b98e44",
   "metadata": {},
   "outputs": [],
   "source": [
    "dataf.drop(\"movie_tags\",axis=1,inplace=True)\n",
    "dataf.drop(\"movie_directors_cast\",axis=1,inplace=True)"
   ]
  },
  {
   "cell_type": "code",
   "execution_count": 22,
   "id": "71548378",
   "metadata": {},
   "outputs": [
    {
     "data": {
      "text/plain": [
       "Index(['Name', 'Year', 'Stars', 'Score', 'Time', 'Votes', 'Total',\n",
       "       'Directors_Cast', 'Discription'],\n",
       "      dtype='object')"
      ]
     },
     "execution_count": 22,
     "metadata": {},
     "output_type": "execute_result"
    }
   ],
   "source": [
    "dataf.columns"
   ]
  },
  {
   "cell_type": "code",
   "execution_count": 23,
   "id": "040a1003",
   "metadata": {},
   "outputs": [
    {
     "data": {
      "text/html": [
       "<div>\n",
       "<style scoped>\n",
       "    .dataframe tbody tr th:only-of-type {\n",
       "        vertical-align: middle;\n",
       "    }\n",
       "\n",
       "    .dataframe tbody tr th {\n",
       "        vertical-align: top;\n",
       "    }\n",
       "\n",
       "    .dataframe thead th {\n",
       "        text-align: right;\n",
       "    }\n",
       "</style>\n",
       "<table border=\"1\" class=\"dataframe\">\n",
       "  <thead>\n",
       "    <tr style=\"text-align: right;\">\n",
       "      <th></th>\n",
       "      <th>Name</th>\n",
       "      <th>Year</th>\n",
       "      <th>Stars</th>\n",
       "      <th>Score</th>\n",
       "      <th>Time</th>\n",
       "      <th>Votes</th>\n",
       "      <th>Total</th>\n",
       "      <th>Directors_Cast</th>\n",
       "      <th>Discription</th>\n",
       "    </tr>\n",
       "  </thead>\n",
       "  <tbody>\n",
       "    <tr>\n",
       "      <th>0</th>\n",
       "      <td>Pulp Fiction</td>\n",
       "      <td>1994</td>\n",
       "      <td>8.9</td>\n",
       "      <td>94</td>\n",
       "      <td>154 min</td>\n",
       "      <td>1,871,051</td>\n",
       "      <td>$107.93M</td>\n",
       "      <td>Quentin Tarantino John Travolta Uma Thurman Sa...</td>\n",
       "      <td>\\nThe lives of two mob hitmen a boxer a gangst...</td>\n",
       "    </tr>\n",
       "    <tr>\n",
       "      <th>1</th>\n",
       "      <td>The Amazing Spider-Man 2</td>\n",
       "      <td>2014</td>\n",
       "      <td>6.6</td>\n",
       "      <td>53</td>\n",
       "      <td>142 min</td>\n",
       "      <td>425,529</td>\n",
       "      <td>$202.85M</td>\n",
       "      <td>Marc Webb Andrew Garfield Emma Stone Jamie Fox...</td>\n",
       "      <td>\\nWhen New York is put under siege by Oscorp i...</td>\n",
       "    </tr>\n",
       "    <tr>\n",
       "      <th>2</th>\n",
       "      <td>The Shawshank Redemption</td>\n",
       "      <td>1994</td>\n",
       "      <td>9.3</td>\n",
       "      <td>80</td>\n",
       "      <td>142 min</td>\n",
       "      <td>2,409,436</td>\n",
       "      <td>$28.34M</td>\n",
       "      <td>Frank Darabont Tim Robbins Morgan Freeman Bob ...</td>\n",
       "      <td>\\nTwo imprisoned men bond over a number of yea...</td>\n",
       "    </tr>\n",
       "    <tr>\n",
       "      <th>3</th>\n",
       "      <td>Star Wars: Episode IV - A New Hope</td>\n",
       "      <td>1977</td>\n",
       "      <td>8.6</td>\n",
       "      <td>90</td>\n",
       "      <td>121 min</td>\n",
       "      <td>1,255,464</td>\n",
       "      <td>$322.74M</td>\n",
       "      <td>George Lucas Mark Hamill Harrison Ford Carrie ...</td>\n",
       "      <td>\\nLuke Skywalker joins forces with a Jedi Knig...</td>\n",
       "    </tr>\n",
       "    <tr>\n",
       "      <th>4</th>\n",
       "      <td>Back to the Future</td>\n",
       "      <td>1985</td>\n",
       "      <td>8.5</td>\n",
       "      <td>87</td>\n",
       "      <td>116 min</td>\n",
       "      <td>1,087,878</td>\n",
       "      <td>$210.61M</td>\n",
       "      <td>Robert Zemeckis Michael J. Fox Christopher Llo...</td>\n",
       "      <td>\\nMarty McFly a 17-year-old high school studen...</td>\n",
       "    </tr>\n",
       "  </tbody>\n",
       "</table>\n",
       "</div>"
      ],
      "text/plain": [
       "                                 Name  Year Stars       Score     Time  \\\n",
       "0                        Pulp Fiction  1994   8.9  94          154 min   \n",
       "1            The Amazing Spider-Man 2  2014   6.6  53          142 min   \n",
       "2            The Shawshank Redemption  1994   9.3  80          142 min   \n",
       "3  Star Wars: Episode IV - A New Hope  1977   8.6  90          121 min   \n",
       "4                  Back to the Future  1985   8.5  87          116 min   \n",
       "\n",
       "       Votes     Total                                     Directors_Cast  \\\n",
       "0  1,871,051  $107.93M  Quentin Tarantino John Travolta Uma Thurman Sa...   \n",
       "1    425,529  $202.85M  Marc Webb Andrew Garfield Emma Stone Jamie Fox...   \n",
       "2  2,409,436   $28.34M  Frank Darabont Tim Robbins Morgan Freeman Bob ...   \n",
       "3  1,255,464  $322.74M  George Lucas Mark Hamill Harrison Ford Carrie ...   \n",
       "4  1,087,878  $210.61M  Robert Zemeckis Michael J. Fox Christopher Llo...   \n",
       "\n",
       "                                         Discription  \n",
       "0  \\nThe lives of two mob hitmen a boxer a gangst...  \n",
       "1  \\nWhen New York is put under siege by Oscorp i...  \n",
       "2  \\nTwo imprisoned men bond over a number of yea...  \n",
       "3  \\nLuke Skywalker joins forces with a Jedi Knig...  \n",
       "4  \\nMarty McFly a 17-year-old high school studen...  "
      ]
     },
     "execution_count": 23,
     "metadata": {},
     "output_type": "execute_result"
    }
   ],
   "source": [
    "dataf.head()"
   ]
  },
  {
   "cell_type": "code",
   "execution_count": null,
   "id": "015489a8",
   "metadata": {},
   "outputs": [],
   "source": []
  }
 ],
 "metadata": {
  "kernelspec": {
   "display_name": "Python 3",
   "language": "python",
   "name": "python3"
  },
  "language_info": {
   "codemirror_mode": {
    "name": "ipython",
    "version": 3
   },
   "file_extension": ".py",
   "mimetype": "text/x-python",
   "name": "python",
   "nbconvert_exporter": "python",
   "pygments_lexer": "ipython3",
   "version": "3.8.8"
  }
 },
 "nbformat": 4,
 "nbformat_minor": 5
}
